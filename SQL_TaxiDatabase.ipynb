{
 "cells": [
  {
   "attachments": {},
   "cell_type": "markdown",
   "id": "a36fa405",
   "metadata": {
    "papermill": {
     "duration": 0.002881,
     "end_time": "2025-07-18T15:34:11.795370",
     "exception": false,
     "start_time": "2025-07-18T15:34:11.792489",
     "status": "completed"
    },
    "tags": []
   },
   "source": [
    "# Introduction\n",
    "\n",
    "In this notebook there are few analysis on the [Chicago Taxi Trips](https://console.cloud.google.com/bigquery?p=bigquery-public-data&d=chicago_taxi_trips&page=dataset&inv=1&invt=Ab3rgg&project=grand-sphere-466709-g1&ws=!1m9!1m4!4m3!1sbigquery-public-data!2schicago_taxi_trips!3staxi_trips!1m3!3m2!1sbigquery-public-data!2schicago_taxi_trips) dataset from GoogleCloud\n"
   ]
  },
  {
   "cell_type": "code",
   "execution_count": null,
   "id": "baca841d",
   "metadata": {
    "execution": {
     "iopub.execute_input": "2025-07-18T15:34:11.803164Z",
     "iopub.status.busy": "2025-07-18T15:34:11.802712Z",
     "iopub.status.idle": "2025-07-18T15:35:20.514417Z",
     "shell.execute_reply": "2025-07-18T15:35:20.513319Z"
    },
    "papermill": {
     "duration": 68.719842,
     "end_time": "2025-07-18T15:35:20.518334",
     "exception": false,
     "start_time": "2025-07-18T15:34:11.798492",
     "status": "completed"
    },
    "tags": []
   },
   "outputs": [],
   "source": [
    "!pip install gdown\n",
    "!pip install geodatasets\n",
    "\n",
    "import gdown\n",
    "import pandas as pd\n",
    "import matplotlib.pyplot as plt\n",
    "import seaborn as sns\n",
    "from google.cloud import bigquery\n",
    "from shapely.geometry import Point\n",
    "import geopandas as gpd\n",
    "from geopandas import GeoDataFrame\n",
    "import geodatasets\n",
    "print(\"Setup Complete\")"
   ]
  },
  {
   "attachments": {},
   "cell_type": "markdown",
   "id": "de0ae49a",
   "metadata": {
    "papermill": {
     "duration": 0.003099,
     "end_time": "2025-07-18T15:35:20.525161",
     "exception": false,
     "start_time": "2025-07-18T15:35:20.522062",
     "status": "completed"
    },
    "tags": []
   },
   "source": [
    "The following code cell fetches the `taxi_trips` table from the `chicago_taxi_trips` dataset."
   ]
  },
  {
   "cell_type": "code",
   "execution_count": null,
   "id": "320c0ab0",
   "metadata": {
    "execution": {
     "iopub.execute_input": "2025-07-18T15:35:20.533194Z",
     "iopub.status.busy": "2025-07-18T15:35:20.532669Z",
     "iopub.status.idle": "2025-07-18T15:35:21.697064Z",
     "shell.execute_reply": "2025-07-18T15:35:21.696089Z"
    },
    "papermill": {
     "duration": 1.170189,
     "end_time": "2025-07-18T15:35:21.698601",
     "exception": false,
     "start_time": "2025-07-18T15:35:20.528412",
     "status": "completed"
    },
    "tags": []
   },
   "outputs": [],
   "source": [
    "# Create a \"Client\" object\n",
    "client = bigquery.Client()\n",
    "\n",
    "# Construct a reference to the \"chicago_taxi_trips\" dataset\n",
    "dataset_ref = client.dataset(\"chicago_taxi_trips\", project=\"bigquery-public-data\")\n",
    "\n",
    "# API request - fetch the dataset\n",
    "dataset = client.get_dataset(dataset_ref)\n",
    "\n",
    "# To find the table name\n",
    "tables = list(client.list_tables(dataset))\n",
    "\n",
    "# Print names of all tables in the dataset (there's only one!)\n",
    "for table in tables:  \n",
    "    print(table.table_id)\n",
    "\n",
    "# Construct a reference to the \"taxi_trips\" table\n",
    "table_ref = dataset_ref.table(\"taxi_trips\")\n",
    "\n",
    "# API request - fetch the table\n",
    "table = client.get_table(table_ref)\n",
    "\n",
    "# Preview the first five lines of the table\n",
    "client.list_rows(table, max_results=5).to_dataframe()"
   ]
  },
  {
   "attachments": {},
   "cell_type": "markdown",
   "id": "930a87f2",
   "metadata": {},
   "source": [
    "### 1) Number of trips in each year"
   ]
  },
  {
   "cell_type": "code",
   "execution_count": null,
   "id": "a67f2f48",
   "metadata": {},
   "outputs": [],
   "source": [
    "rides_per_year_query = \"\"\"SELECT COUNT(1) AS num_trips, EXTRACT(YEAR FROM trip_start_timestamp) as year\n",
    "                          FROM `bigquery-public-data.chicago_taxi_trips.taxi_trips` \n",
    "                          GROUP BY year\n",
    "                          ORDER BY year DESC \n",
    "                            \"\"\"\n",
    "\n",
    "# Set up the query (cancel the query if it would use too much of \n",
    "# your quota)\n",
    "safe_config = bigquery.QueryJobConfig(maximum_bytes_billed=10**10)\n",
    "rides_per_year_query_job = client.query(rides_per_year_query, job_config = safe_config) # Your code goes here\n",
    "\n",
    "# API request - run the query, and return a pandas DataFrame\n",
    "rides_per_year_result = rides_per_year_query_job.to_dataframe() # Your code goes here\n",
    "\n",
    "# View results\n",
    "print(rides_per_year_result)"
   ]
  },
  {
   "attachments": {},
   "cell_type": "markdown",
   "id": "a4560aa3",
   "metadata": {},
   "source": [
    "### 2) Number of trips in each month"
   ]
  },
  {
   "cell_type": "code",
   "execution_count": null,
   "id": "911825d0",
   "metadata": {},
   "outputs": [],
   "source": [
    "rides_per_month_query = \"\"\"SELECT EXTRACT(MONTH FROM trip_start_timestamp) as month, COUNT(1) AS num_trips\n",
    "                          FROM `bigquery-public-data.chicago_taxi_trips.taxi_trips` \n",
    "                          WHERE EXTRACT(YEAR FROM trip_start_timestamp) = 2016\n",
    "                          GROUP BY month \n",
    "                          ORDER BY month  \n",
    "                            \"\"\"\n",
    "\n",
    "# Set up the query\n",
    "safe_config = bigquery.QueryJobConfig(maximum_bytes_billed=10**10)\n",
    "rides_per_month_query_job = client.query(rides_per_month_query, job_config = safe_config) # Your code goes here\n",
    "\n",
    "# API request - run the query, and return a pandas DataFrame\n",
    "rides_per_month_result = rides_per_month_query_job.to_dataframe() # Your code goes here\n",
    "\n",
    "# View results\n",
    "print(rides_per_month_result)"
   ]
  },
  {
   "attachments": {},
   "cell_type": "markdown",
   "id": "a74c0ee7",
   "metadata": {},
   "source": [
    "### 3) Average Speed\n",
    "\n",
    "The query shows, for each hour of the day in the dataset, the corresponding number of trips and average speed.\n",
    "\n",
    "The result will have three columns:\n",
    "- `hour_of_day` - holds the result of extracting the hour from `trip_start_timestamp`.\n",
    "- `num_trips` - the count of the total number of trips in each hour of the day (e.g. how many trips were started between 6AM and 7AM, independent of which day it occurred on).\n",
    "- `avg_mph` - the average speed, measured in miles per hour, for trips that started in that hour of the day.  Average speed in miles per hour is calculated as `3600 * SUM(trip_miles) / SUM(trip_seconds)`. (The value 3600 is used to convert from seconds to hours.)\n",
    "\n",
    "The query is restricted to data meeting the following criteria:\n",
    "- a `trip_start_timestamp` > **2016-01-01** and < **2016-04-01**\n",
    "- `trip_seconds` > 0 and `trip_miles` > 0\n"
   ]
  },
  {
   "cell_type": "code",
   "execution_count": null,
   "id": "63aba238",
   "metadata": {},
   "outputs": [],
   "source": [
    "speeds_query = \"\"\"\n",
    "               WITH RelevantRides AS\n",
    "               (\n",
    "                   SELECT EXTRACT(HOUR FROM trip_start_timestamp) AS hour_of_day, trip_miles, trip_seconds\n",
    "                   FROM `bigquery-public-data.chicago_taxi_trips.taxi_trips` \n",
    "                   WHERE trip_seconds > 0 AND trip_miles > 0\n",
    "                   AND trip_start_timestamp > '2016-01-01' AND\n",
    "                   trip_start_timestamp < '2016-04-01'\n",
    "               )\n",
    "               SELECT hour_of_day,\n",
    "               COUNT(1) AS num_trips, \n",
    "               3600*SUM(trip_miles) / SUM(trip_seconds) AS avg_mph\n",
    "               FROM RelevantRides\n",
    "               GROUP BY hour_of_day\n",
    "               ORDER BY hour_of_day\n",
    "               \"\"\"\n",
    "\n",
    "# Set up the query\n",
    "safe_config = bigquery.QueryJobConfig(maximum_bytes_billed=10**10)\n",
    "speeds_query_job = client.query(speeds_query, job_config = safe_config) # Your code here\n",
    "\n",
    "# API request - run the query, and return a pandas DataFrame\n",
    "speeds_result = speeds_query_job.to_dataframe() # Your code here\n",
    "\n",
    "# View results\n",
    "print(speeds_result)"
   ]
  },
  {
   "attachments": {},
   "cell_type": "markdown",
   "id": "a6a6f746",
   "metadata": {
    "papermill": {
     "duration": 0.003537,
     "end_time": "2025-07-18T15:35:21.706114",
     "exception": false,
     "start_time": "2025-07-18T15:35:21.702577",
     "status": "completed"
    },
    "tags": []
   },
   "source": [
    "### 4) Predicting the taxis demand\n",
    "\n",
    "The final dataset will have two columns:\n",
    "- `trip_date` - contains one entry for each date from January 1, 2016, to March 31, 2016.\n",
    "- `avg_num_trips` - shows the average number of daily trips, calculated over a window including the value for the current date, along with the values for the preceding 3 days and the following 3 days, as long as the days fit within the three-month time frame. \n",
    "For instance, when calculating the value in this column for January 3, 2016, the window will include the number of trips for the preceding 2 days, the current date, and the following 3 days."
   ]
  },
  {
   "cell_type": "code",
   "execution_count": null,
   "id": "ea5eaff7",
   "metadata": {
    "execution": {
     "iopub.execute_input": "2025-07-18T15:35:21.714645Z",
     "iopub.status.busy": "2025-07-18T15:35:21.714336Z",
     "iopub.status.idle": "2025-07-18T15:35:22.828096Z",
     "shell.execute_reply": "2025-07-18T15:35:22.827351Z"
    },
    "papermill": {
     "duration": 1.119566,
     "end_time": "2025-07-18T15:35:22.829322",
     "exception": false,
     "start_time": "2025-07-18T15:35:21.709756",
     "status": "completed"
    },
    "tags": []
   },
   "outputs": [],
   "source": [
    "avg_num_trips_query = \"\"\"\n",
    "                      WITH trips_by_day AS\n",
    "                      (\n",
    "                      SELECT DATE(trip_start_timestamp) AS trip_date,\n",
    "                          COUNT(*) as num_trips\n",
    "                      FROM `bigquery-public-data.chicago_taxi_trips.taxi_trips`\n",
    "                      WHERE trip_start_timestamp > '2016-01-01' AND trip_start_timestamp < '2016-04-01'\n",
    "                      GROUP BY trip_date\n",
    "                      ORDER BY trip_date\n",
    "                      )\n",
    "                      SELECT trip_date,\n",
    "                          AVG(num_trips) OVER (\n",
    "                               ORDER BY trip_date\n",
    "                               ROWS BETWEEN 3 PRECEDING AND 3 FOLLOWING\n",
    "                               ) AS avg_num_trips\n",
    "                      FROM trips_by_day\n",
    "                      \"\"\"\n",
    "\n",
    "# Set up the query\n",
    "safe_config = bigquery.QueryJobConfig(maximum_bytes_billed=10**10)\n",
    "avg_num_query_job = client.query(avg_num_trips_query, job_config = safe_config) # Your code here\n",
    "\n",
    "# API request - run the query, and return a pandas DataFrame\n",
    "avg_num_result = avg_num_query_job.to_dataframe() # Your code here\n",
    "\n",
    "# View results\n",
    "print(avg_num_result)"
   ]
  },
  {
   "attachments": {},
   "cell_type": "markdown",
   "id": "3ca1f8ce",
   "metadata": {
    "papermill": {
     "duration": 0.00513,
     "end_time": "2025-07-18T15:35:22.859658",
     "exception": false,
     "start_time": "2025-07-18T15:35:22.854528",
     "status": "completed"
    },
    "tags": []
   },
   "source": [
    "### 5) Separate and order trips by community area\n",
    "\n",
    "The returned additional column called `trip_number` will shows the order in which the trips were taken from their respective community areas.\n",
    "So, the first trip of the day originating from community area 1 should receive a value of 1; the second trip of the day from the same area should receive a value of 2.  Likewise, the first trip of the day from community area 2 should receive a value of 1, and so on."
   ]
  },
  {
   "cell_type": "code",
   "execution_count": null,
   "id": "52b51f33",
   "metadata": {
    "execution": {
     "iopub.execute_input": "2025-07-18T15:35:22.869383Z",
     "iopub.status.busy": "2025-07-18T15:35:22.869030Z",
     "iopub.status.idle": "2025-07-18T15:35:27.859308Z",
     "shell.execute_reply": "2025-07-18T15:35:27.858318Z"
    },
    "papermill": {
     "duration": 4.996824,
     "end_time": "2025-07-18T15:35:27.860712",
     "exception": false,
     "start_time": "2025-07-18T15:35:22.863888",
     "status": "completed"
    },
    "tags": []
   },
   "outputs": [
    {
     "ename": "",
     "evalue": "",
     "output_type": "error",
     "traceback": [
      "\u001b[1;31mImpossibile avviare Jupyter. Errore durante il tentativo di individuare Jupyter: L'esecuzione di celle richiede il pacchetto notebook e jupyter.\n",
      "\u001b[1;31mRun the following command to install 'jupyter e notebook' into the Python environment. \n",
      "\u001b[1;31mCommand: 'python -m pip install jupyter notebook -U\n",
      "\u001b[1;31mor\n",
      "\u001b[1;31mconda install jupyter notebook -U'\n",
      "\u001b[1;31mFare clic <a href='https://aka.ms/installJupyterForVSCode'>qui</a> per ulteriori informazioni."
     ]
    }
   ],
   "source": [
    "trip_number_query = \"\"\"\n",
    "                    SELECT pickup_community_area,\n",
    "                        trip_start_timestamp,\n",
    "                        trip_end_timestamp,\n",
    "                        RANK()\n",
    "                          OVER(\n",
    "                           PARTITION BY pickup_community_area\n",
    "                           ORDER BY trip_start_timestamp  \n",
    "                        ) AS trip_number\n",
    "                    FROM `bigquery-public-data.chicago_taxi_trips.taxi_trips`\n",
    "                    WHERE DATE(trip_start_timestamp) = '2013-10-03'\n",
    "                    \"\"\"\n",
    "# Set up the query\n",
    "safe_config = bigquery.QueryJobConfig(maximum_bytes_billed=10**10)\n",
    "trip_num_query_job = client.query(trip_number_query, job_config = safe_config) # Your code here\n",
    "\n",
    "# API request - run the query, and return a pandas DataFrame\n",
    "trip_num_result = trip_num_query_job.to_dataframe() # Your code here\n",
    "\n",
    "# View results\n",
    "print(trip_num_result)"
   ]
  },
  {
   "attachments": {},
   "cell_type": "markdown",
   "id": "6898390e",
   "metadata": {
    "papermill": {
     "duration": 0.005431,
     "end_time": "2025-07-18T15:35:27.893943",
     "exception": false,
     "start_time": "2025-07-18T15:35:27.888512",
     "status": "completed"
    },
    "tags": []
   },
   "source": [
    "### 6) How much time elapses between trips?\n",
    "\n",
    "Length of the break (in minutes) that the driver had before each trip started (this corresponds to the time between `trip_start_timestamp` of the current trip and `trip_end_timestamp` of the previous trip)."
   ]
  },
  {
   "cell_type": "code",
   "execution_count": null,
   "id": "8546aa92",
   "metadata": {
    "execution": {
     "iopub.execute_input": "2025-07-18T15:35:27.905701Z",
     "iopub.status.busy": "2025-07-18T15:35:27.905401Z",
     "iopub.status.idle": "2025-07-18T15:35:36.747510Z",
     "shell.execute_reply": "2025-07-18T15:35:36.746629Z"
    },
    "papermill": {
     "duration": 8.849666,
     "end_time": "2025-07-18T15:35:36.748936",
     "exception": false,
     "start_time": "2025-07-18T15:35:27.899270",
     "status": "completed"
    },
    "tags": []
   },
   "outputs": [],
   "source": [
    "break_time_query = \"\"\"\n",
    "                   SELECT taxi_id,\n",
    "                       trip_start_timestamp,\n",
    "                       trip_end_timestamp,\n",
    "                       TIMESTAMP_DIFF(\n",
    "                           trip_start_timestamp, \n",
    "                           LAG(trip_end_timestamp) \n",
    "                               OVER (\n",
    "                                    PARTITION BY taxi_id \n",
    "                                    ORDER BY trip_start_timestamp), \n",
    "                           MINUTE) as prev_break\n",
    "                   FROM `bigquery-public-data.chicago_taxi_trips.taxi_trips`\n",
    "                   WHERE DATE(trip_start_timestamp) = '2013-10-03' \n",
    "                   \"\"\"\n",
    "\n",
    "# Set up the query\n",
    "safe_config = bigquery.QueryJobConfig(maximum_bytes_billed=10**10)\n",
    "break_time_query_job = client.query(break_time_query, job_config = safe_config) # Your code here\n",
    "\n",
    "# API request - run the query, and return a pandas DataFrame\n",
    "break_time_result = break_time_query_job.to_dataframe() # Your code here\n",
    "\n",
    "# View results\n",
    "print(break_time_result)"
   ]
  },
  {
   "attachments": {},
   "cell_type": "markdown",
   "id": "6ee42514",
   "metadata": {},
   "source": [
    "### 7) Passenger Load Factor (Efficiency Ratio)?\n",
    "\n",
    "Length of the break (in minutes) that the driver had before each trip started (this corresponds to the time between `trip_start_timestamp` of the current trip and `trip_end_timestamp` of the previous trip).\n",
    "\n",
    "\n",
    "How much of a taxi's working day is spent transporting passengers?\n",
    "Goal: Measure taxi efficiency based on active time on the road vs idle time. Need to select the cumulative time during which the taxi driver worked. \n",
    "The load factor tells how many active hours wrt the total shift hour"
   ]
  },
  {
   "cell_type": "code",
   "execution_count": null,
   "id": "d3c59bd6",
   "metadata": {},
   "outputs": [],
   "source": [
    "break_time_query = \"\"\" SELECT taxi_id,\n",
    "DATE(trip_start_timestamp) AS trip_date,\n",
    "TIMESTAMP_DIFF(MAX(trip_end_timestamp), MIN(trip_start_timestamp), MINUTE )/60 as total_shift_hour,\n",
    "SAFE_DIVIDE(SUM(trip_seconds)/3600.0, TIMESTAMP_DIFF(MAX(trip_end_timestamp), MIN(trip_start_timestamp), MINUTE )/60) AS load_factor\n",
    "FROM `bigquery-public-data.chicago_taxi_trips.taxi_trips`\n",
    "WHERE trip_start_timestamp BETWEEN '2016-01-01' AND '2016-01-31'\n",
    "GROUP BY taxi_id, trip_date\n",
    "LIMIT 5000 \"\"\"\n",
    "\n",
    "# Set up the query\n",
    "safe_config = bigquery.QueryJobConfig(maximum_bytes_billed=10**10)\n",
    "break_time_query_job = client.query(break_time_query, job_config = safe_config) # Your code here\n",
    "\n",
    "# API request - run the query, and return a pandas DataFrame\n",
    "break_time_result = break_time_query_job.to_dataframe() # Your code here\n",
    "\n",
    "# View results\n",
    "print(break_time_result)"
   ]
  },
  {
   "attachments": {},
   "cell_type": "markdown",
   "id": "d3970c35",
   "metadata": {},
   "source": [
    "### 8) Peak Demand Window Detection (15-min intervals)\n",
    "\n",
    "Goal: Segment the 24 hours into 15-minute intervals to identify peaks in demand (e.g. rush hour 7:15–7:30)."
   ]
  },
  {
   "cell_type": "code",
   "execution_count": null,
   "id": "a80f4556",
   "metadata": {},
   "outputs": [
    {
     "ename": "",
     "evalue": "",
     "output_type": "error",
     "traceback": [
      "\u001b[1;31mImpossibile avviare Jupyter. Errore durante il tentativo di individuare Jupyter: L'esecuzione di celle richiede il pacchetto jupyter e notebook.\n",
      "\u001b[1;31mRun the following command to install 'jupyter e notebook' into the Python environment. \n",
      "\u001b[1;31mCommand: 'python -m pip install jupyter notebook -U\n",
      "\u001b[1;31mor\n",
      "\u001b[1;31mconda install jupyter notebook -U'\n",
      "\u001b[1;31mFare clic <a href='https://aka.ms/installJupyterForVSCode'>qui</a> per ulteriori informazioni."
     ]
    }
   ],
   "source": [
    "peak_demand_query = \"\"\" SELECT FORMAT_TIMESTAMP('%H:%M', TIMESTAMP_TRUNC(trip_start_timestamp, MINUTE)) AS time_bucket, \n",
    "COUNT(*) AS num_trips \n",
    "FROM `bigquery-public-data.chicago_taxi_trips.taxi_trips`\n",
    "WHERE trip_start_timestamp BETWEEN '2016-01-01' AND '2016-03-31'\n",
    "GROUP BY time_bucket\n",
    "ORDER BY time_bucket ASC\n",
    "LIMIT 5000  \"\"\"\n",
    "\n",
    "# TIMESTAMP_TRUNC: Truncates a TIMESTAMP or DATETIME value at a particular granularity.\n",
    "# FORMAT_TIMESTAMP: Formats a TIMESTAMP value according to the specified format string.\n",
    "\n",
    "# Set up the query\n",
    "safe_config = bigquery.QueryJobConfig(maximum_bytes_billed=10**10)\n",
    "peak_demand_query_job = client.query(peak_demand_query, job_config = safe_config) # Your code here\n",
    "\n",
    "# API request - run the query, and return a pandas DataFrame\n",
    "peak_demand_result = peak_demand_query_job.to_dataframe() # Your code here\n",
    "\n",
    "# View results\n",
    "print(peak_demand_result)"
   ]
  },
  {
   "attachments": {},
   "cell_type": "markdown",
   "id": "e0529d93",
   "metadata": {},
   "source": [
    "### 9) Pickup Latitude and Longitude of the pickup location (to be printed later on the map)"
   ]
  },
  {
   "cell_type": "code",
   "execution_count": null,
   "id": "a06a45d9",
   "metadata": {},
   "outputs": [],
   "source": [
    "lat_lon_query = '''  SELECT\n",
    "  pickup_latitude,\n",
    "  pickup_longitude, \n",
    "  \n",
    "FROM `bigquery-public-data.chicago_taxi_trips.taxi_trips`\n",
    "WHERE pickup_latitude IS NOT NULL\n",
    "  AND pickup_longitude IS NOT NULL\n",
    "  --AND pickup_latitude BETWEEN 41.6 AND 42.1\n",
    "  --AND pickup_longitude BETWEEN -87.95 AND -87.5\n",
    "  AND EXTRACT(YEAR FROM trip_start_timestamp) = 2019\n",
    "LIMIT 50000\n",
    "'''\n",
    "\n",
    "# Set up the query\n",
    "safe_config = bigquery.QueryJobConfig(maximum_bytes_billed=10**10)\n",
    "lat_lon_query_job = client.query(lat_lon_query, job_config = safe_config) # Your code here\n",
    "\n",
    "# API request - run the query, and return a pandas DataFrame\n",
    "lat_lon_result = lat_lon_query_job.to_dataframe() # Your code here\n",
    "\n",
    "# View results\n",
    "print(lat_lon_result)"
   ]
  },
  {
   "attachments": {},
   "cell_type": "markdown",
   "id": "142aa9fe",
   "metadata": {},
   "source": [
    "### 10) Statistics "
   ]
  },
  {
   "cell_type": "code",
   "execution_count": null,
   "id": "04367c40",
   "metadata": {},
   "outputs": [],
   "source": [
    "stat_query = '''  SELECT AVG(fare) AS avg_fare,\n",
    "AVG(tips) AS avg_tips,\n",
    "AVG(tolls) AS avg_tolls,\n",
    "AVG(extras) AS avg_extras, \n",
    "COUNT(*) AS num_trips,\n",
    "AVG(trip_seconds)/60 AS avg_minutes,\n",
    "EXTRACT (YEAR FROM trip_start_timestamp) AS year\n",
    "FROM `bigquery-public-data.chicago_taxi_trips.taxi_trips` \n",
    "WHERE trip_seconds > 0\n",
    "GROUP BY year\n",
    "ORDER BY year ASC\n",
    "'''\n",
    "\n",
    "# Set up the query\n",
    "safe_config = bigquery.QueryJobConfig(maximum_bytes_billed=10**10)\n",
    "stat_query_job = client.query(stat_query, job_config = safe_config) # Your code here\n",
    "\n",
    "# API request - run the query, and return a pandas DataFrame\n",
    "stat_result = stat_query_job.to_dataframe() # Your code here\n",
    "\n",
    "# View results\n",
    "print(stat_result)"
   ]
  },
  {
   "attachments": {},
   "cell_type": "markdown",
   "id": "bfd7dc89",
   "metadata": {},
   "source": [
    "### 11) Time Between Dropoff and Next Pickup (Driver Idle Time)"
   ]
  },
  {
   "cell_type": "code",
   "execution_count": null,
   "id": "0bf909ac",
   "metadata": {},
   "outputs": [],
   "source": [
    "time_do_query = ''' \n",
    "SELECT taxi_id,\n",
    "trip_start_timestamp,\n",
    "trip_end_timestamp,\n",
    "TIMESTAMP_DIFF( trip_start_timestamp,\n",
    "LAG(trip_end_timestamp) -- Lag() function to access previous rows data as per defined offset value.\n",
    "OVER ( PARTITION BY taxi_id ORDER BY trip_start_timestamp), MINUTE) AS idle_minutes\n",
    "FROM `bigquery-public-data.chicago_taxi_trips.taxi_trips`\n",
    "WHERE EXTRACT(YEAR FROM trip_start_timestamp) = 2016\n",
    "  AND trip_start_timestamp IS NOT NULL\n",
    "  AND trip_end_timestamp IS NOT NULL\n",
    "LIMIT 5000\n",
    "'''\n",
    "\n",
    "# Set up the query\n",
    "safe_config = bigquery.QueryJobConfig(maximum_bytes_billed=10**10)\n",
    "time_do_query_job = client.query(time_do_query, job_config = safe_config) # Your code here\n",
    "\n",
    "# API request - run the query, and return a pandas DataFrame\n",
    "time_do_result = time_do_query_job.to_dataframe() # Your code here\n",
    "\n",
    "# View results\n",
    "print(time_do_query)"
   ]
  },
  {
   "attachments": {},
   "cell_type": "markdown",
   "id": "3ffd9ac0",
   "metadata": {},
   "source": [
    "### 12) Number of trips during year/day/month"
   ]
  },
  {
   "cell_type": "code",
   "execution_count": null,
   "id": "329e4221",
   "metadata": {},
   "outputs": [],
   "source": [
    "\n",
    "trips_query = ''' \n",
    "SELECT COUNT(*) as num_trips,\n",
    "EXTRACT(YEAR FROM trip_start_timestamp) AS year,\n",
    "EXTRACT(MONTH FROM trip_start_timestamp) AS month,\n",
    "EXTRACT(DAY FROM trip_start_timestamp) AS day\n",
    "FROM `bigquery-public-data.chicago_taxi_trips.taxi_trips` \n",
    "GROUP BY year, month, day\n",
    "ORDER BY year DESC\n",
    "'''\n",
    "\n",
    "# Set up the query\n",
    "safe_config = bigquery.QueryJobConfig(maximum_bytes_billed=10**10)\n",
    "trips_query_job = client.query(trips_query, job_config = safe_config) # Your code here\n",
    "\n",
    "# API request - run the query, and return a pandas DataFrame\n",
    "trips_result = trips_query_job.to_dataframe() # Your code here\n",
    "\n",
    "# View results\n",
    "print(trips_result)"
   ]
  },
  {
   "attachments": {},
   "cell_type": "markdown",
   "id": "1fccf51c",
   "metadata": {},
   "source": [
    "# Plots associated with the queries above\n"
   ]
  },
  {
   "cell_type": "code",
   "execution_count": null,
   "id": "eacf7dc1",
   "metadata": {},
   "outputs": [],
   "source": [
    "# Define the Google Drive public link\n",
    "file_id = '1V4Q99BIsm2jKfyLs9ISWONHR9xthdjSN'\n",
    "output_path = 'downloaded_file.csv'\n",
    "\n",
    "#File path: https://drive.google.com/file/d/1V4Q99BIsm2jKfyLs9ISWONHR9xthdjSN/view?usp=sharing\n",
    "\n",
    "# Download the file from Google Drive\n",
    "try:\n",
    "    gdown.download(f'https://drive.google.com/uc?id={file_id}', output_path, fuzzy=True)\n",
    "    print(f\"File downloaded successfully to {output_path}\")\n",
    "\n",
    "    # Read the downloaded CSV file into a pandas DataFrame\n",
    "    df = pd.read_csv(output_path)\n",
    "    print(\"CSV file read successfully!\")\n",
    "\n",
    "except Exception as e:\n",
    "    print(f\"An error occurred: {e}\")"
   ]
  },
  {
   "cell_type": "code",
   "execution_count": null,
   "id": "0fae56c8",
   "metadata": {},
   "outputs": [],
   "source": [
    "# Create a bar plot of num_trips per year\n",
    "plt.figure(figsize=(10, 6))\n",
    "sns.barplot(x='year', y='num_trips', data=df)\n",
    "plt.title('Number of Trips per Year')\n",
    "plt.xlabel('Year')\n",
    "plt.ylabel('Number of Trips')\n",
    "plt.xticks(rotation=45)\n",
    "plt.tight_layout()\n",
    "plt.show()"
   ]
  },
  {
   "cell_type": "code",
   "execution_count": null,
   "id": "c1186973",
   "metadata": {},
   "outputs": [],
   "source": [
    "# Melt the DataFrame to long format for plotting multiple columns\n",
    "df_melted = df.melt(id_vars=['year'],\n",
    "                    value_vars=['avg_fare', 'avg_tips', 'avg_tolls', 'avg_extras'],\n",
    "                    var_name='statistic',\n",
    "                    value_name='value')\n",
    "\n",
    "# Create a grouped bar plot\n",
    "plt.figure(figsize=(12, 7))\n",
    "sns.barplot(x='year', y='value', hue='statistic', data=df_melted, palette='viridis')\n",
    "plt.title('Statistics over Years')\n",
    "plt.xlabel('Year')\n",
    "plt.ylabel('Value (A.U.)')\n",
    "plt.xticks(rotation=45)\n",
    "plt.legend(title='Statistic')\n",
    "plt.tight_layout()\n",
    "plt.show()"
   ]
  },
  {
   "cell_type": "code",
   "execution_count": null,
   "id": "3d213401",
   "metadata": {},
   "outputs": [],
   "source": [
    "gdown.download(f'https://drive.google.com/file/d/1wCy1ZdzBaWUDIDoHUqEjBEB9dmKVwCM3/view?usp=sharing', 'downloaded_lat_long.csv', fuzzy=True)\n",
    "\n",
    "df_lat = pd.read_csv('downloaded_lat_long.csv', delimiter=',', skiprows=0, low_memory=False)\n",
    "geometry = [Point(xy) for xy in zip(df_lat['pickup_longitude'], df_lat['pickup_latitude'])]\n",
    "gdf = GeoDataFrame(df_lat, geometry=geometry)\n",
    "\n",
    "\n",
    "#this is a simple map that goes with geopandas\n",
    "# deprecated: world = gpd.read_file(gpd.datasets.get_path('naturalearth_lowres'))\n",
    "world = gpd.read_file(geodatasets.data.naturalearth.land['url'])\n",
    "\n",
    "base = world.plot(figsize=(10, 6))\n",
    "\n",
    "# Aggiungi i punti (gdf) sopra la mappa\n",
    "gdf.plot(ax=base, marker='o', color='red', markersize=15)\n",
    "\n",
    "# Imposta i limiti sull'asse X e Y\n",
    "base.set_xlim([-88, -87.5])  # Limiti asse X (longitudine) -- -87.95 AND -87.5\n",
    "base.set_ylim([41.5, 42.1])   # Limiti asse Y (latitudine) -- 41.6 AND 42.1\n",
    "\n",
    "plt.show()\n"
   ]
  },
  {
   "cell_type": "code",
   "execution_count": null,
   "id": "e8f74bc6",
   "metadata": {},
   "outputs": [],
   "source": [
    "gdown.download(f'https://drive.google.com/file/d/1VEfYWNioWnO7cBkKHS297OJJToUtz9z1/view?usp=sharing', 'idle_minutes.csv', fuzzy=True)\n",
    "\n",
    "df_idle_minutes = pd.read_csv('idle_minutes.csv', delimiter=',', skiprows=0, low_memory=False)\n",
    "df_idle_minutes['idle_minutes'].plot(kind='hist', bins=20, title='idle_minutes')\n",
    "plt.gca().spines[['top', 'right',]].set_visible(False)"
   ]
  },
  {
   "cell_type": "code",
   "execution_count": null,
   "id": "ce130235",
   "metadata": {},
   "outputs": [],
   "source": [
    "\n",
    "gdown.download(f'https://drive.google.com/file/d/1wC6gCgBeK0c_Oj-8S9Hd8nDFKpPZ4xPL/view?usp=sharing', 'peak_time_trips.csv', fuzzy=True)\n",
    "\n",
    "df_peak_time_trips = pd.read_csv('peak_time_trips.csv', delimiter=',', skiprows=0, low_memory=False)\n",
    "def _plot_series(series, series_name, series_index=0):\n",
    "  palette = list(sns.palettes.mpl_palette('Dark2'))\n",
    "  xs = series['time_bucket']\n",
    "  ys = series['num_trips']\n",
    "  \n",
    "  plt.plot(xs, ys, label=series_name, color=palette[series_index % len(palette)])\n",
    "\n",
    "fig, ax = plt.subplots(figsize=(10, 5.2), layout='constrained')\n",
    "df_sorted = df_peak_time_trips.sort_values('time_bucket', ascending=True)\n",
    "_plot_series(df_sorted, '')\n",
    "sns.despine(fig=fig, ax=ax)\n",
    "plt.xlabel('time_bucket')\n",
    "_ = plt.ylabel('num_trips')"
   ]
  },
  {
   "cell_type": "code",
   "execution_count": null,
   "id": "16e0d7a9",
   "metadata": {},
   "outputs": [],
   "source": [
    "gdown.download(f'https://drive.google.com/file/d/1sAzs0fJiI113RkQJSvfapsX7FYSP0T_N/view?usp=sharing', 'active_time.csv', fuzzy=True)\n",
    "\n",
    "df_active_time = pd.read_csv('active_time.csv', delimiter=',', skiprows=0, low_memory=False)\n",
    "def _plot_series(series, series_name, series_index=0):\n",
    "  palette = list(sns.palettes.mpl_palette('Dark2'))\n",
    "  xs = series['trip_date']\n",
    "  ys = series['load_factor']\n",
    "  \n",
    "  plt.plot(xs, ys, label=series_name, color=palette[series_index % len(palette)])\n",
    "\n",
    "fig, ax = plt.subplots(figsize=(10, 5.2), layout='constrained')\n",
    "df_sorted = df_active_time.sort_values('trip_date', ascending=True)\n",
    "_plot_series(df_sorted, '')\n",
    "sns.despine(fig=fig, ax=ax)\n",
    "plt.xlabel('trip_date')\n",
    "_ = plt.ylabel('load_factor')"
   ]
  }
 ],
 "metadata": {
  "kaggle": {
   "accelerator": "none",
   "dataSources": [
    {
     "datasetId": 22219,
     "sourceId": 28536,
     "sourceType": "datasetVersion"
    }
   ],
   "isGpuEnabled": false,
   "isInternetEnabled": false,
   "language": "python",
   "sourceType": "notebook"
  },
  "kernelspec": {
   "display_name": "Python 3",
   "language": "python",
   "name": "python3"
  },
  "language_info": {
   "codemirror_mode": {
    "name": "ipython",
    "version": 3
   },
   "file_extension": ".py",
   "mimetype": "text/x-python",
   "name": "python",
   "nbconvert_exporter": "python",
   "pygments_lexer": "ipython3",
   "version": "3.9.6"
  },
  "papermill": {
   "default_parameters": {},
   "duration": 93.168157,
   "end_time": "2025-07-18T15:35:40.170028",
   "environment_variables": {},
   "exception": null,
   "input_path": "__notebook__.ipynb",
   "output_path": "__notebook__.ipynb",
   "parameters": {},
   "start_time": "2025-07-18T15:34:07.001871",
   "version": "2.6.0"
  },
  "vscode": {
   "interpreter": {
    "hash": "31f2aee4e71d21fbe5cf8b01ff0e069b9275f58929596ceb00d14d90e3e16cd6"
   }
  }
 },
 "nbformat": 4,
 "nbformat_minor": 5
}
