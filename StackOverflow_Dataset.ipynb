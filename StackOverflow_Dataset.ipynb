{
 "cells": [
  {
   "cell_type": "markdown",
   "id": "5af6f09a",
   "metadata": {
    "papermill": {
     "duration": 0.004376,
     "end_time": "2025-07-17T13:38:02.806161",
     "exception": false,
     "start_time": "2025-07-17T13:38:02.801785",
     "status": "completed"
    },
    "tags": []
   },
   "source": [
    "# Introduction\n",
    "\n",
    "[Stack Overflow](https://stackoverflow.com/) is a widely beloved question and answer site for technical questions. You'll probably use it yourself as you keep using SQL (or any programming language). \n",
    "\n",
    "Their data is publicly available. What cool things do you think it would be useful for?\n",
    "\n",
    "Here's one idea:\n",
    "You could set up a service that identifies the Stack Overflow users who have demonstrated expertise with a specific technology by answering related questions about it, so someone could hire those experts for in-depth help.\n",
    "\n",
    "In this exercise, you'll write the SQL queries that might serve as the foundation for this type of service.\n",
    "\n",
    "As usual, run the following cell to set up our feedback system before moving on."
   ]
  },
  {
   "cell_type": "markdown",
   "id": "4ed86823",
   "metadata": {
    "papermill": {
     "duration": 0.004835,
     "end_time": "2025-07-17T13:38:40.136408",
     "exception": false,
     "start_time": "2025-07-17T13:38:40.131573",
     "status": "completed"
    },
    "tags": []
   },
   "source": [
    "Run the next cell to fetch the `stackoverflow` dataset."
   ]
  },
  {
   "cell_type": "code",
   "execution_count": null,
   "id": "93f5a85e",
   "metadata": {
    "execution": {
     "iopub.execute_input": "2025-07-17T13:38:40.148182Z",
     "iopub.status.busy": "2025-07-17T13:38:40.147609Z",
     "iopub.status.idle": "2025-07-17T13:38:40.438542Z",
     "shell.execute_reply": "2025-07-17T13:38:40.437537Z"
    },
    "papermill": {
     "duration": 0.299372,
     "end_time": "2025-07-17T13:38:40.440629",
     "exception": false,
     "start_time": "2025-07-17T13:38:40.141257",
     "status": "completed"
    },
    "tags": []
   },
   "outputs": [
    {
     "ename": "",
     "evalue": "",
     "output_type": "error",
     "traceback": [
      "\u001b[1;31mImpossibile avviare Jupyter. Errore durante il tentativo di individuare Jupyter: L'esecuzione di celle richiede il pacchetto jupyter e notebook.\n",
      "\u001b[1;31mRun the following command to install 'jupyter e notebook' into the Python environment. \n",
      "\u001b[1;31mCommand: 'python -m pip install jupyter notebook -U\n",
      "\u001b[1;31mor\n",
      "\u001b[1;31mconda install jupyter notebook -U'\n",
      "\u001b[1;31mFare clic <a href='https://aka.ms/installJupyterForVSCode'>qui</a> per ulteriori informazioni."
     ]
    }
   ],
   "source": [
    "from google.cloud import bigquery\n",
    "\n",
    "# Create a \"Client\" object\n",
    "client = bigquery.Client()\n",
    "\n",
    "# Construct a reference to the \"stackoverflow\" dataset\n",
    "dataset_ref = client.dataset(\"stackoverflow\", project=\"bigquery-public-data\")\n",
    "\n",
    "# API request - fetch the dataset\n",
    "dataset = client.get_dataset(dataset_ref)"
   ]
  },
  {
   "cell_type": "code",
   "execution_count": null,
   "id": "5446252b",
   "metadata": {
    "execution": {
     "iopub.execute_input": "2025-07-17T13:38:40.463456Z",
     "iopub.status.busy": "2025-07-17T13:38:40.463129Z",
     "iopub.status.idle": "2025-07-17T13:38:40.656386Z",
     "shell.execute_reply": "2025-07-17T13:38:40.655408Z"
    },
    "papermill": {
     "duration": 0.200791,
     "end_time": "2025-07-17T13:38:40.657960",
     "exception": false,
     "start_time": "2025-07-17T13:38:40.457169",
     "status": "completed"
    },
    "tags": []
   },
   "outputs": [
    {
     "ename": "",
     "evalue": "",
     "output_type": "error",
     "traceback": [
      "\u001b[1;31mImpossibile avviare Jupyter. Errore durante il tentativo di individuare Jupyter: L'esecuzione di celle richiede il pacchetto jupyter e notebook.\n",
      "\u001b[1;31mRun the following command to install 'jupyter e notebook' into the Python environment. \n",
      "\u001b[1;31mCommand: 'python -m pip install jupyter notebook -U\n",
      "\u001b[1;31mor\n",
      "\u001b[1;31mconda install jupyter notebook -U'\n",
      "\u001b[1;31mFare clic <a href='https://aka.ms/installJupyterForVSCode'>qui</a> per ulteriori informazioni."
     ]
    }
   ],
   "source": [
    "# Get a list of available tables \n",
    "\n",
    "tables =  list(client.list_tables(dataset)) \n",
    "list_of_tables = [table.table_id for table in tables]"
   ]
  },
  {
   "cell_type": "code",
   "execution_count": null,
   "id": "7c7bde7d",
   "metadata": {
    "execution": {
     "iopub.execute_input": "2025-07-17T13:38:40.707389Z",
     "iopub.status.busy": "2025-07-17T13:38:40.707085Z",
     "iopub.status.idle": "2025-07-17T13:38:41.364465Z",
     "shell.execute_reply": "2025-07-17T13:38:41.363463Z"
    },
    "papermill": {
     "duration": 0.665048,
     "end_time": "2025-07-17T13:38:41.366033",
     "exception": false,
     "start_time": "2025-07-17T13:38:40.700985",
     "status": "completed"
    },
    "tags": []
   },
   "outputs": [
    {
     "ename": "",
     "evalue": "",
     "output_type": "error",
     "traceback": [
      "\u001b[1;31mImpossibile avviare Jupyter. Errore durante il tentativo di individuare Jupyter: L'esecuzione di celle richiede il pacchetto jupyter e notebook.\n",
      "\u001b[1;31mRun the following command to install 'jupyter e notebook' into the Python environment. \n",
      "\u001b[1;31mCommand: 'python -m pip install jupyter notebook -U\n",
      "\u001b[1;31mor\n",
      "\u001b[1;31mconda install jupyter notebook -U'\n",
      "\u001b[1;31mFare clic <a href='https://aka.ms/installJupyterForVSCode'>qui</a> per ulteriori informazioni."
     ]
    }
   ],
   "source": [
    "# Construct a reference to the \"posts_answers\" table\n",
    "answers_table_ref = dataset_ref.table(\"posts_answers\")\n",
    "\n",
    "# API request - fetch the table\n",
    "answers_table = client.get_table(answers_table_ref)\n",
    "\n",
    "# Preview the first five lines of the \"posts_answers\" table\n",
    "client.list_rows(answers_table, max_results=5).to_dataframe()"
   ]
  },
  {
   "cell_type": "code",
   "execution_count": null,
   "id": "7a633832",
   "metadata": {
    "execution": {
     "iopub.execute_input": "2025-07-17T13:38:41.388175Z",
     "iopub.status.busy": "2025-07-17T13:38:41.387879Z",
     "iopub.status.idle": "2025-07-17T13:38:41.975834Z",
     "shell.execute_reply": "2025-07-17T13:38:41.974883Z"
    },
    "papermill": {
     "duration": 0.595505,
     "end_time": "2025-07-17T13:38:41.977318",
     "exception": false,
     "start_time": "2025-07-17T13:38:41.381813",
     "status": "completed"
    },
    "tags": []
   },
   "outputs": [
    {
     "ename": "",
     "evalue": "",
     "output_type": "error",
     "traceback": [
      "\u001b[1;31mImpossibile avviare Jupyter. Errore durante il tentativo di individuare Jupyter: L'esecuzione di celle richiede il pacchetto jupyter e notebook.\n",
      "\u001b[1;31mRun the following command to install 'jupyter e notebook' into the Python environment. \n",
      "\u001b[1;31mCommand: 'python -m pip install jupyter notebook -U\n",
      "\u001b[1;31mor\n",
      "\u001b[1;31mconda install jupyter notebook -U'\n",
      "\u001b[1;31mFare clic <a href='https://aka.ms/installJupyterForVSCode'>qui</a> per ulteriori informazioni."
     ]
    }
   ],
   "source": [
    "# Construct a reference to the \"posts_questions\" table\n",
    "questions_table_ref = dataset_ref.table(\"posts_questions\")\n",
    "\n",
    "# API request - fetch the table\n",
    "questions_table = client.get_table(questions_table_ref)\n",
    "\n",
    "# Preview the first five lines of the \"posts_questions\" table\n",
    "client.list_rows(questions_table, max_results=5).to_dataframe()"
   ]
  },
  {
   "cell_type": "code",
   "execution_count": null,
   "id": "07619fa5",
   "metadata": {},
   "outputs": [
    {
     "ename": "",
     "evalue": "",
     "output_type": "error",
     "traceback": [
      "\u001b[1;31mImpossibile avviare Jupyter. Errore durante il tentativo di individuare Jupyter: L'esecuzione di celle richiede il pacchetto jupyter e notebook.\n",
      "\u001b[1;31mRun the following command to install 'jupyter e notebook' into the Python environment. \n",
      "\u001b[1;31mCommand: 'python -m pip install jupyter notebook -U\n",
      "\u001b[1;31mor\n",
      "\u001b[1;31mconda install jupyter notebook -U'\n",
      "\u001b[1;31mFare clic <a href='https://aka.ms/installJupyterForVSCode'>qui</a> per ulteriori informazioni."
     ]
    }
   ],
   "source": [
    "# Construct a reference to the \"users\" table\n",
    "users_table_ref = dataset_ref.table(\"users\")\n",
    "\n",
    "# API request - fetch the table\n",
    "users_table = client.get_table(users_table_ref)\n",
    "\n",
    "# Preview the first five lines of the table\n",
    "client.list_rows(users_table, max_results=5).to_dataframe()"
   ]
  },
  {
   "attachments": {},
   "cell_type": "markdown",
   "id": "b4fc4edd",
   "metadata": {
    "papermill": {
     "duration": 0.005763,
     "end_time": "2025-07-17T13:38:42.022999",
     "exception": false,
     "start_time": "2025-07-17T13:38:42.017236",
     "status": "completed"
    },
    "tags": []
   },
   "source": [
    "### Selecting the right questions\n",
    "\n",
    "The query selects the `id`, `title` and `owner_user_id` columns from the `posts_questions` table. \n",
    "- Restrict the results to rows that contain the word \"bigquery\" in the `tags` column. \n",
    "- Include rows where there is other text in addition to the word \"bigquery\" "
   ]
  },
  {
   "cell_type": "code",
   "execution_count": null,
   "id": "55bbf976",
   "metadata": {
    "execution": {
     "iopub.execute_input": "2025-07-17T13:38:42.036305Z",
     "iopub.status.busy": "2025-07-17T13:38:42.035977Z",
     "iopub.status.idle": "2025-07-17T13:38:44.695023Z",
     "shell.execute_reply": "2025-07-17T13:38:44.694067Z"
    },
    "papermill": {
     "duration": 2.667589,
     "end_time": "2025-07-17T13:38:44.696598",
     "exception": false,
     "start_time": "2025-07-17T13:38:42.029009",
     "status": "completed"
    },
    "tags": []
   },
   "outputs": [
    {
     "ename": "",
     "evalue": "",
     "output_type": "error",
     "traceback": [
      "\u001b[1;31mImpossibile avviare Jupyter. Errore durante il tentativo di individuare Jupyter: L'esecuzione di celle richiede il pacchetto jupyter e notebook.\n",
      "\u001b[1;31mRun the following command to install 'jupyter e notebook' into the Python environment. \n",
      "\u001b[1;31mCommand: 'python -m pip install jupyter notebook -U\n",
      "\u001b[1;31mor\n",
      "\u001b[1;31mconda install jupyter notebook -U'\n",
      "\u001b[1;31mFare clic <a href='https://aka.ms/installJupyterForVSCode'>qui</a> per ulteriori informazioni."
     ]
    }
   ],
   "source": [
    "questions_query = \"\"\"\n",
    "                  SELECT id, title, owner_user_id\n",
    "                  FROM `bigquery-public-data.stackoverflow.posts_questions`\n",
    "                  WHERE tags LIKE '%bigquery%'\n",
    "                  \"\"\"\n",
    "\n",
    "# Set up the query (cancel the query if it would use too much of \n",
    "# your quota, with the limit set to 1 GB)\n",
    "safe_config = bigquery.QueryJobConfig(maximum_bytes_billed=10**10)\n",
    "questions_query_job = client.query(questions_query, job_config = safe_config) # Your code goes here\n",
    "\n",
    "# API request - run the query, and return a pandas DataFrame\n",
    "questions_results = questions_query_job.to_dataframe() # Your code goes here\n",
    "\n",
    "# Preview results\n",
    "print(questions_results.head())"
   ]
  },
  {
   "attachments": {},
   "cell_type": "markdown",
   "id": "0d2d64bb",
   "metadata": {
    "papermill": {
     "duration": 0.006121,
     "end_time": "2025-07-17T13:38:44.748233",
     "exception": false,
     "start_time": "2025-07-17T13:38:44.742112",
     "status": "completed"
    },
    "tags": []
   },
   "source": [
    "### 2) Joins\n",
    "The query returns the `id`, `body` and `owner_user_id` columns from the `posts_answers` table.  "
   ]
  },
  {
   "cell_type": "code",
   "execution_count": null,
   "id": "30806bb6",
   "metadata": {
    "execution": {
     "iopub.execute_input": "2025-07-17T13:38:44.763922Z",
     "iopub.status.busy": "2025-07-17T13:38:44.763199Z",
     "iopub.status.idle": "2025-07-17T13:38:57.888818Z",
     "shell.execute_reply": "2025-07-17T13:38:57.887913Z"
    },
    "papermill": {
     "duration": 13.135044,
     "end_time": "2025-07-17T13:38:57.890147",
     "exception": false,
     "start_time": "2025-07-17T13:38:44.755103",
     "status": "completed"
    },
    "tags": []
   },
   "outputs": [
    {
     "ename": "",
     "evalue": "",
     "output_type": "error",
     "traceback": [
      "\u001b[1;31mImpossibile avviare Jupyter. Errore durante il tentativo di individuare Jupyter: L'esecuzione di celle richiede il pacchetto jupyter e notebook.\n",
      "\u001b[1;31mRun the following command to install 'jupyter e notebook' into the Python environment. \n",
      "\u001b[1;31mCommand: 'python -m pip install jupyter notebook -U\n",
      "\u001b[1;31mor\n",
      "\u001b[1;31mconda install jupyter notebook -U'\n",
      "\u001b[1;31mFare clic <a href='https://aka.ms/installJupyterForVSCode'>qui</a> per ulteriori informazioni."
     ]
    }
   ],
   "source": [
    "answers_query = \"\"\"\n",
    "                SELECT a.id, a.body, a.owner_user_id\n",
    "                FROM `bigquery-public-data.stackoverflow.posts_questions` AS q \n",
    "                INNER JOIN `bigquery-public-data.stackoverflow.posts_answers` AS a\n",
    "                    ON q.id = a.parent_id\n",
    "                WHERE q.tags LIKE '%bigquery%'\n",
    "                \"\"\"\n",
    "\n",
    "# Set up the query\n",
    "safe_config = bigquery.QueryJobConfig(maximum_bytes_billed=27*10**10)\n",
    "answers_query_job = client.query(answers_query, job_config = safe_config) # Your code goes here\n",
    "\n",
    "# API request - run the query, and return a pandas DataFrame\n",
    "answers_results = answers_query_job.to_dataframe() # Your code goes here\n",
    "\n",
    "# Preview results\n",
    "print(answers_results.head())"
   ]
  },
  {
   "attachments": {},
   "cell_type": "markdown",
   "id": "cb49d55f",
   "metadata": {
    "papermill": {
     "duration": 0.007132,
     "end_time": "2025-07-17T13:38:57.945367",
     "exception": false,
     "start_time": "2025-07-17T13:38:57.938235",
     "status": "completed"
    },
    "tags": []
   },
   "source": [
    "### 5) Answer the question\n",
    "This query returbs the list of users who have answered many questions.\n",
    "\n",
    "The query that has a single row for each user who answered at least one question with a tag that includes the string \"bigquery\". The result will have two columns:\n",
    "- `user_id` - contains the `owner_user_id` column from the `posts_answers` table\n",
    "- `number_of_answers` - contains the number of answers the user has written to \"bigquery\"-related questions"
   ]
  },
  {
   "cell_type": "code",
   "execution_count": null,
   "id": "63caa846",
   "metadata": {
    "execution": {
     "iopub.execute_input": "2025-07-17T13:38:57.960986Z",
     "iopub.status.busy": "2025-07-17T13:38:57.960685Z",
     "iopub.status.idle": "2025-07-17T13:38:59.128762Z",
     "shell.execute_reply": "2025-07-17T13:38:59.127804Z"
    },
    "papermill": {
     "duration": 1.177708,
     "end_time": "2025-07-17T13:38:59.130160",
     "exception": false,
     "start_time": "2025-07-17T13:38:57.952452",
     "status": "completed"
    },
    "tags": []
   },
   "outputs": [
    {
     "ename": "",
     "evalue": "",
     "output_type": "error",
     "traceback": [
      "\u001b[1;31mImpossibile avviare Jupyter. Errore durante il tentativo di individuare Jupyter: L'esecuzione di celle richiede il pacchetto jupyter e notebook.\n",
      "\u001b[1;31mRun the following command to install 'jupyter e notebook' into the Python environment. \n",
      "\u001b[1;31mCommand: 'python -m pip install jupyter notebook -U\n",
      "\u001b[1;31mor\n",
      "\u001b[1;31mconda install jupyter notebook -U'\n",
      "\u001b[1;31mFare clic <a href='https://aka.ms/installJupyterForVSCode'>qui</a> per ulteriori informazioni."
     ]
    }
   ],
   "source": [
    "bigquery_experts_query = \"\"\"\n",
    "                SELECT a.owner_user_id AS user_id, COUNT(1) AS number_of_answers\n",
    "                FROM `bigquery-public-data.stackoverflow.posts_questions` AS q \n",
    "                INNER JOIN `bigquery-public-data.stackoverflow.posts_answers` AS a\n",
    "                    ON q.id = a.parent_id\n",
    "                WHERE q.tags LIKE '%bigquery%'\n",
    "                GROUP BY a.owner_user_id\n",
    "                \"\"\"\n",
    "\n",
    "# Set up the query\n",
    "safe_config = bigquery.QueryJobConfig(maximum_bytes_billed=10**10)\n",
    "bigquery_experts_query_job = client.query(bigquery_experts_query, job_config = safe_config) # Your code goes here\n",
    "\n",
    "# API request - run the query, and return a pandas DataFrame\n",
    "bigquery_experts_results = bigquery_experts_query_job.to_dataframe() # Your code goes here\n",
    "\n",
    "# Preview results\n",
    "print(bigquery_experts_results.head())"
   ]
  },
  {
   "attachments": {},
   "cell_type": "markdown",
   "id": "0f95b00b",
   "metadata": {},
   "source": [
    "### 1) How long does it take for questions to receive answers?\n",
    "\n",
    "Use this information to better design the order in which questions are presented to Stack Overflow users.\n",
    "\n",
    "The query below,  focuses on questions asked in January 2018. It returns a table with two columns:\n",
    "- `q_id` - the ID of the question\n",
    "- `time_to_answer` - how long it took (in seconds) for the question to receive an answer"
   ]
  },
  {
   "cell_type": "code",
   "execution_count": null,
   "id": "4c214e6e",
   "metadata": {},
   "outputs": [
    {
     "ename": "",
     "evalue": "",
     "output_type": "error",
     "traceback": [
      "\u001b[1;31mImpossibile avviare Jupyter. Errore durante il tentativo di individuare Jupyter: L'esecuzione di celle richiede il pacchetto jupyter e notebook.\n",
      "\u001b[1;31mRun the following command to install 'jupyter e notebook' into the Python environment. \n",
      "\u001b[1;31mCommand: 'python -m pip install jupyter notebook -U\n",
      "\u001b[1;31mor\n",
      "\u001b[1;31mconda install jupyter notebook -U'\n",
      "\u001b[1;31mFare clic <a href='https://aka.ms/installJupyterForVSCode'>qui</a> per ulteriori informazioni."
     ]
    }
   ],
   "source": [
    "# Your code here\n",
    "correct_query = \"\"\"\n",
    "              SELECT q.id AS q_id,\n",
    "                  MIN(TIMESTAMP_DIFF(a.creation_date, q.creation_date, SECOND)) as time_to_answer\n",
    "              FROM `bigquery-public-data.stackoverflow.posts_questions` AS q\n",
    "                  LEFT JOIN `bigquery-public-data.stackoverflow.posts_answers` AS a\n",
    "              ON q.id = a.parent_id\n",
    "              WHERE q.creation_date >= '2018-01-01' and q.creation_date < '2018-02-01'\n",
    "              GROUP BY q_id\n",
    "              ORDER BY time_to_answer\n",
    "              \"\"\"\n",
    "\n",
    "# Run the query, and return a pandas DataFrame\n",
    "correct_result = client.query(correct_query).result().to_dataframe()\n",
    "print(\"Percentage of answered questions: %s%%\" % \\\n",
    "      (sum(correct_result[\"time_to_answer\"].notnull()) / len(correct_result) * 100))\n",
    "print(\"Number of questions:\", len(correct_result))"
   ]
  },
  {
   "attachments": {},
   "cell_type": "markdown",
   "id": "678f407f",
   "metadata": {},
   "source": [
    "### 2) Initial questions and answers\n",
    "\n",
    "Is important to understand the initial experiences that users typically have with the Stack Overflow website.  Is it more common for users to first ask questions or provide answers? After signing up, how long does it take for users to first interact with the website?  \n",
    "\n",
    "The query returns a table with three columns:\n",
    "- `owner_user_id` - the user ID\n",
    "- `q_creation_date` - the first time the user asked a question \n",
    "- `a_creation_date` - the first time the user contributed an answer \n",
    "\n",
    "Goal: keep track of users who have asked questions, but have yet to provide answers. The table should also include users who have answered questions, but have yet to pose their own questions.  \n",
    "\n",
    "To avoid returning too much data, the attention is restricted to questions and answers posed in January 2019. "
   ]
  },
  {
   "cell_type": "code",
   "execution_count": null,
   "id": "f7b4b1c0",
   "metadata": {},
   "outputs": [
    {
     "ename": "",
     "evalue": "",
     "output_type": "error",
     "traceback": [
      "\u001b[1;31mImpossibile avviare Jupyter. Errore durante il tentativo di individuare Jupyter: L'esecuzione di celle richiede il pacchetto jupyter e notebook.\n",
      "\u001b[1;31mRun the following command to install 'jupyter e notebook' into the Python environment. \n",
      "\u001b[1;31mCommand: 'python -m pip install jupyter notebook -U\n",
      "\u001b[1;31mor\n",
      "\u001b[1;31mconda install jupyter notebook -U'\n",
      "\u001b[1;31mFare clic <a href='https://aka.ms/installJupyterForVSCode'>qui</a> per ulteriori informazioni."
     ]
    }
   ],
   "source": [
    "q_and_a_query = \"\"\"\n",
    "                SELECT q.owner_user_id AS owner_user_id,\n",
    "                    MIN(q.creation_date) AS q_creation_date,\n",
    "                    MIN(a.creation_date) AS a_creation_date\n",
    "                FROM `bigquery-public-data.stackoverflow.posts_questions` AS q\n",
    "                    LEFT JOIN `bigquery-public-data.stackoverflow.posts_answers` AS a\n",
    "                ON q.owner_user_id = a.owner_user_id \n",
    "                WHERE q.creation_date >= '2019-01-01' AND q.creation_date < '2019-02-01' \n",
    "                    AND a.creation_date >= '2019-01-01' AND a.creation_date < '2019-02-01'\n",
    "                GROUP BY owner_user_id\n",
    "                \"\"\""
   ]
  },
  {
   "attachments": {},
   "cell_type": "markdown",
   "id": "6f600ad3",
   "metadata": {},
   "source": [
    "### 3) Initial questions and answers\n",
    "\n",
    "Now, need to pull information from *three* different tables.  This syntax very similar to the case when we have to join only two tables. It is possible to use two different **JOINs** to link together information from all three tables, in a single query.\n",
    "\n",
    "The interest is in understanding users who joined the site in January 2019 and to track their activity on the site: when did they post their first questions and answers, if ever?\n",
    "\n",
    "The query that returns the following columns:\n",
    "- `id` - the IDs of all users who created Stack Overflow accounts in January 2019 (January 1, 2019, to January 31, 2019, inclusive)\n",
    "- `q_creation_date` - the first time the user posted a question on the site; if the user has never posted a question, the value should be null\n",
    "- `a_creation_date` - the first time the user posted a question on the site; if the user has never posted a question, the value should be null\n",
    "\n",
    "NB: questions and answers posted after January 31, 2019, should still be included in the results.  And, all users who joined the site in January 2019 should be included (even if they have never posted a question or provided an answer)."
   ]
  },
  {
   "cell_type": "code",
   "execution_count": null,
   "id": "9cb9f0d9",
   "metadata": {},
   "outputs": [],
   "source": [
    "three_tables_query = \"\"\"\n",
    "                     SELECT u.id AS id,\n",
    "                         MIN(q.creation_date) AS q_creation_date,\n",
    "                         MIN(a.creation_date) AS a_creation_date\n",
    "                     FROM `bigquery-public-data.stackoverflow.users` AS u\n",
    "                         LEFT JOIN `bigquery-public-data.stackoverflow.posts_answers` AS a\n",
    "                             ON u.id = a.owner_user_id\n",
    "                         LEFT JOIN `bigquery-public-data.stackoverflow.posts_questions` AS q\n",
    "                             ON q.owner_user_id = u.id\n",
    "                     WHERE u.creation_date >= '2019-01-01' and u.creation_date < '2019-02-01'\n",
    "                     GROUP BY id\n",
    "                    \"\"\""
   ]
  },
  {
   "attachments": {},
   "cell_type": "markdown",
   "id": "fbec8ae6",
   "metadata": {},
   "source": [
    "### 4) How many distinct users posted on January 1, 2019?\n",
    "\n",
    "The query that returns a table with a single column:\n",
    "- `owner_user_id` - the IDs of all users who posted at least one question or answer on January 1, 2019.  Each user ID should appear at most once.\n",
    "\n",
    "In the `posts_questions` (and `posts_answers`) tables, it is possible to get the ID of the original poster from the `owner_user_id` column.  Likewise, the date of the original posting can be found in the `creation_date` column.  "
   ]
  },
  {
   "cell_type": "code",
   "execution_count": null,
   "id": "b0faf2ac",
   "metadata": {},
   "outputs": [],
   "source": [
    "all_users_query = \"\"\"\n",
    "                     SELECT q.owner_user_id, \n",
    "                     FROM `bigquery-public-data.stackoverflow.posts_questions` AS q\n",
    "                     WHERE EXTRACT(DATE FROM q.creation_date) = '2019-01-01'\n",
    "                     UNION DISTINCT\n",
    "                     SELECT a.owner_user_id, \n",
    "                     FROM `bigquery-public-data.stackoverflow.posts_answers` AS a\n",
    "                     WHERE EXTRACT(DATE FROM a.creation_date) = '2019-01-01'\n",
    "                  \"\"\"\n"
   ]
  }
 ],
 "metadata": {
  "kaggle": {
   "accelerator": "none",
   "dataSources": [
    {
     "datasetId": 22685,
     "sourceId": 337535,
     "sourceType": "datasetVersion"
    }
   ],
   "isGpuEnabled": false,
   "isInternetEnabled": false,
   "language": "python",
   "sourceType": "notebook"
  },
  "kernelspec": {
   "display_name": "Python 3",
   "language": "python",
   "name": "python3"
  },
  "language_info": {
   "codemirror_mode": {
    "name": "ipython",
    "version": 3
   },
   "file_extension": ".py",
   "mimetype": "text/x-python",
   "name": "python",
   "nbconvert_exporter": "python",
   "pygments_lexer": "ipython3",
   "version": "3.9.6"
  },
  "papermill": {
   "default_parameters": {},
   "duration": 64.300769,
   "end_time": "2025-07-17T13:39:01.899319",
   "environment_variables": {},
   "exception": null,
   "input_path": "__notebook__.ipynb",
   "output_path": "__notebook__.ipynb",
   "parameters": {},
   "start_time": "2025-07-17T13:37:57.598550",
   "version": "2.6.0"
  },
  "vscode": {
   "interpreter": {
    "hash": "31f2aee4e71d21fbe5cf8b01ff0e069b9275f58929596ceb00d14d90e3e16cd6"
   }
  }
 },
 "nbformat": 4,
 "nbformat_minor": 5
}
